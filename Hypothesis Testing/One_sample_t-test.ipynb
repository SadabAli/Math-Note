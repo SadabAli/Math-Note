{
 "cells": [
  {
   "cell_type": "code",
   "execution_count": 1,
   "metadata": {},
   "outputs": [],
   "source": [
    "import pandas as pd\n",
    "\n",
    "# Load the train and test datasets\n",
    "train = pd.read_csv(r\"C:\\Users\\alisa\\OneDrive\\Desktop\\Math\\titanic-train.csv\")\n",
    "test = pd.read_csv(r\"C:\\Users\\alisa\\OneDrive\\Desktop\\Math\\titanic-test.csv\")\n"
   ]
  },
  {
   "cell_type": "code",
   "execution_count": 3,
   "metadata": {},
   "outputs": [],
   "source": [
    "train[\"Source\"] = \"Train\"\n",
    "test[\"Source\"] = \"Test\"\n"
   ]
  },
  {
   "cell_type": "code",
   "execution_count": 5,
   "metadata": {},
   "outputs": [],
   "source": [
    "# Combine the datasets\n",
    "Titanic = pd.concat([train, test], axis=0, ignore_index=True)\n"
   ]
  },
  {
   "cell_type": "code",
   "execution_count": 7,
   "metadata": {},
   "outputs": [],
   "source": [
    "Titanic.to_csv(\"Titanic.csv\" , index=False)"
   ]
  },
  {
   "cell_type": "code",
   "execution_count": 9,
   "metadata": {},
   "outputs": [],
   "source": [
    "import pandas as pd\n",
    "titanic=pd.read_csv(r\"C:\\Users\\alisa\\OneDrive\\Desktop\\Math\\Titanic.csv\")"
   ]
  },
  {
   "cell_type": "code",
   "execution_count": 11,
   "metadata": {},
   "outputs": [
    {
     "data": {
      "text/plain": [
       "(1309, 13)"
      ]
     },
     "execution_count": 11,
     "metadata": {},
     "output_type": "execute_result"
    }
   ],
   "source": [
    "titanic.shape"
   ]
  },
  {
   "cell_type": "markdown",
   "metadata": {},
   "source": [
    "Problem statment\n",
    "\n",
    "                 Ho: AVG. age = 35\n",
    "\n",
    "                H1 : AVG. age > 35"
   ]
  },
  {
   "cell_type": "code",
   "execution_count": 12,
   "metadata": {},
   "outputs": [],
   "source": [
    "pop = titanic['Age'].dropna()"
   ]
  },
  {
   "cell_type": "code",
   "execution_count": null,
   "metadata": {},
   "outputs": [
    {
     "data": {
      "text/plain": [
       "array([36., 50., 22., 44., 36., 47., 48., 16., 22., 31., 30., 30., 21.,\n",
       "       20., 33., 27., 26., 26., 27., 20., 58., 21., 28., 35., 23.])"
      ]
     },
     "execution_count": 15,
     "metadata": {},
     "output_type": "execute_result"
    }
   ],
   "source": [
    "# Assumption\n",
    "sample_age = pop.sample(25).values # random sampling\n",
    "sample_age"
   ]
  },
  {
   "cell_type": "code",
   "execution_count": null,
   "metadata": {},
   "outputs": [
    {
     "name": "stdout",
     "output_type": "stream",
     "text": [
      "ShapiroResult(statistic=0.9122406988663239, pvalue=0.034208727040708105)\n"
     ]
    }
   ],
   "source": [
    "# check for normality using Shapiro Wilk test\n",
    "from scipy.stats import shapiro\n",
    "\n",
    "shapiro_age = shapiro(sample_age)\n",
    "\n",
    "print(shapiro_age) # pvalur < .05 not normal IF p-value> 0.05 its nomal\n",
    "\n",
    "# normality--> ok\n",
    "# independent--> ok\n",
    "# random sampling --> ok\n",
    "# pop. std is unknown --> ok"
   ]
  },
  {
   "cell_type": "code",
   "execution_count": null,
   "metadata": {},
   "outputs": [],
   "source": [
    "# POP mean = 35 , sample mean is known , sample std is known ,alpha = 0.05"
   ]
  },
  {
   "cell_type": "code",
   "execution_count": null,
   "metadata": {},
   "outputs": [
    {
     "name": "stdout",
     "output_type": "stream",
     "text": [
      "t-statistic: -1.795522385769089\n",
      "p-value: 0.042586836961664216\n"
     ]
    }
   ],
   "source": [
    "# t-test\n",
    "pop_mean = 35\n",
    "\n",
    "import scipy.stats as stats\n",
    "\n",
    "t_statistic, p_value = stats.ttest_1samp(sample_age, pop_mean)\n",
    "\n",
    "print(\"t-statistic:\", t_statistic)\n",
    "print(\"p-value:\", p_value/2) # one tailed test hai iss lia /2"
   ]
  },
  {
   "cell_type": "code",
   "execution_count": 24,
   "metadata": {},
   "outputs": [
    {
     "name": "stdout",
     "output_type": "stream",
     "text": [
      "Fail to reject the null hypothesis.\n"
     ]
    }
   ],
   "source": [
    "alpha = 0.05\n",
    "\n",
    "if p_value < alpha:\n",
    "    print(\"Reject the null hypothesis.\")\n",
    "else:\n",
    "    print(\"Fail to reject the null hypothesis.\")\n",
    "# conclusion age is less then 50"
   ]
  },
  {
   "cell_type": "code",
   "execution_count": 25,
   "metadata": {},
   "outputs": [
    {
     "data": {
      "text/plain": [
       "29.881137667304014"
      ]
     },
     "execution_count": 25,
     "metadata": {},
     "output_type": "execute_result"
    }
   ],
   "source": [
    "pop.mean()"
   ]
  },
  {
   "cell_type": "code",
   "execution_count": null,
   "metadata": {},
   "outputs": [],
   "source": []
  }
 ],
 "metadata": {
  "kernelspec": {
   "display_name": "Python 3",
   "language": "python",
   "name": "python3"
  },
  "language_info": {
   "codemirror_mode": {
    "name": "ipython",
    "version": 3
   },
   "file_extension": ".py",
   "mimetype": "text/x-python",
   "name": "python",
   "nbconvert_exporter": "python",
   "pygments_lexer": "ipython3",
   "version": "3.12.1"
  }
 },
 "nbformat": 4,
 "nbformat_minor": 2
}
