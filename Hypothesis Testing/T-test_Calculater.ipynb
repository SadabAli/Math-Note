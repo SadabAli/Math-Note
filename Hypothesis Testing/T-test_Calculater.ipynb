{
 "cells": [
  {
   "cell_type": "code",
   "execution_count": 1,
   "metadata": {},
   "outputs": [
    {
     "name": "stdout",
     "output_type": "stream",
     "text": [
      "0.2233514781656204\n"
     ]
    }
   ],
   "source": [
    "from scipy.stats import t\n",
    "\n",
    "# Set the t-value and degrees of freedom\n",
    "t_value = -1.25\n",
    "df = 24  # Replace this with your specific degrees of freedom\n",
    "\n",
    "# Calculate the CDF value\n",
    "cdf_value = t.cdf(t_value, df)\n",
    "print(cdf_value*2)\n"
   ]
  },
  {
   "cell_type": "code",
   "execution_count": 7,
   "metadata": {},
   "outputs": [
    {
     "name": "stdout",
     "output_type": "stream",
     "text": [
      "2.2094450935418694e-05\n"
     ]
    }
   ],
   "source": [
    "from scipy.stats import t\n",
    "\n",
    "# Set the t-value and degrees of freedom\n",
    "t_value = -5.25\n",
    "df = 24  # Replace this with your specific degrees of freedom\n",
    "\n",
    "# Calculate the CDF value\n",
    "cdf_value = t.cdf(t_value, df)\n",
    "print(cdf_value*2)\n"
   ]
  },
  {
   "cell_type": "code",
   "execution_count": 4,
   "metadata": {},
   "outputs": [
    {
     "name": "stdout",
     "output_type": "stream",
     "text": [
      "P-Value: 6.186771765070986e-05\n"
     ]
    }
   ],
   "source": [
    "from scipy.stats import t\n",
    "\n",
    "# Parameters\n",
    "t_stat = 7.02\n",
    "df = 9\n",
    "\n",
    "# Two-tailed p-value\n",
    "p_value = 2 * (1 - t.cdf(abs(t_stat), df))\n",
    "print(f\"P-Value: {p_value}\")\n"
   ]
  },
  {
   "cell_type": "code",
   "execution_count": 5,
   "metadata": {},
   "outputs": [
    {
     "name": "stdout",
     "output_type": "stream",
     "text": [
      "P-Value: 3.093385882535493e-05\n"
     ]
    }
   ],
   "source": [
    "from scipy.stats import t\n",
    "\n",
    "# Parameters\n",
    "t_stat = 7.02\n",
    "df = 9\n",
    "\n",
    "# One-tailed p-value for right-tailed test\n",
    "p_value = 1 - t.cdf(t_stat, df)\n",
    "print(f\"P-Value: {p_value}\")\n"
   ]
  },
  {
   "cell_type": "code",
   "execution_count": null,
   "metadata": {},
   "outputs": [],
   "source": []
  }
 ],
 "metadata": {
  "kernelspec": {
   "display_name": "Python 3",
   "language": "python",
   "name": "python3"
  },
  "language_info": {
   "codemirror_mode": {
    "name": "ipython",
    "version": 3
   },
   "file_extension": ".py",
   "mimetype": "text/x-python",
   "name": "python",
   "nbconvert_exporter": "python",
   "pygments_lexer": "ipython3",
   "version": "3.12.1"
  }
 },
 "nbformat": 4,
 "nbformat_minor": 2
}
